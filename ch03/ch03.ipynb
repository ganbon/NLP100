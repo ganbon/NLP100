{
 "cells": [
  {
   "cell_type": "markdown",
   "id": "32875939",
   "metadata": {},
   "source": [
    "# 第3章: 正規表現"
   ]
  },
  {
   "cell_type": "code",
   "execution_count": 1,
   "id": "8c965dfa",
   "metadata": {},
   "outputs": [],
   "source": [
    "import json\n",
    "import requests\n",
    "import re"
   ]
  },
  {
   "cell_type": "markdown",
   "id": "3fe6b040",
   "metadata": {},
   "source": [
    "## 20. JSONデータの読み込み\n",
    "Wikipedia記事のJSONファイルを読み込み、「イギリス」に関する記事本文を表示せよ。問題21-29では、ここで抽出した記事本文に対して実行せよ。"
   ]
  },
  {
   "cell_type": "code",
   "execution_count": 3,
   "id": "0eedc6a4",
   "metadata": {},
   "outputs": [],
   "source": [
    "with open(\"./jawiki-country.json\", mode=\"r\", encoding=\"utf-8\") as f:\n",
    "    country_data =  [json.loads(l) for l in f.readlines()]\n",
    "    \n",
    "england_data =  [country for country in country_data if country[\"title\"] == \"イギリス\"][0]"
   ]
  },
  {
   "cell_type": "markdown",
   "id": "0dd68c75",
   "metadata": {},
   "source": [
    "## 21. カテゴリ名を含む行を抽出\n",
    "記事中でカテゴリ名を宣言している行を抽出せよ。"
   ]
  },
  {
   "cell_type": "code",
   "execution_count": 5,
   "id": "3ed34172",
   "metadata": {},
   "outputs": [
    {
     "name": "stdout",
     "output_type": "stream",
     "text": [
      "['[[Category:イギリス|*]]', '[[Category:イギリス連邦加盟国]]', '[[Category:英連邦王国|*]]', '[[Category:G8加盟国]]', '[[Category:欧州連合加盟国|元]]', '[[Category:海洋国家]]', '[[Category:現存する君主国]]', '[[Category:島国]]', '[[Category:1801年に成立した国家・領域]]']\n"
     ]
    }
   ],
   "source": [
    "body = england_data[\"text\"]\n",
    "pattern = re.compile(r\"\\[\\[Category:.+\\]\\]\")\n",
    "category_line = pattern.findall(body)\n",
    "print(category_line)"
   ]
  },
  {
   "cell_type": "markdown",
   "id": "fa4f71f6",
   "metadata": {},
   "source": [
    "## 22. カテゴリ名の抽出\n",
    "記事のカテゴリ名を（行単位ではなく名前で）抽出せよ。"
   ]
  },
  {
   "cell_type": "code",
   "execution_count": 6,
   "id": "b7fc4460",
   "metadata": {},
   "outputs": [
    {
     "name": "stdout",
     "output_type": "stream",
     "text": [
      "['イギリス|*', 'イギリス連邦加盟国', '英連邦王国|*', 'G8加盟国', '欧州連合加盟国|元', '海洋国家', '現存する君主国', '島国', '1801年に成立した国家・領域']\n"
     ]
    }
   ],
   "source": [
    "pattern = re.compile(r\"\\[\\[Category:(.+)\\]\\]\")\n",
    "category_name = pattern.findall(body)\n",
    "print(category_name)"
   ]
  },
  {
   "cell_type": "markdown",
   "id": "0a7281ca",
   "metadata": {},
   "source": [
    "## 23. セクション構造\n",
    "記事中に含まれるセクション名とそのレベル（例えば”== セクション名 ==”なら1）を表示せよ。"
   ]
  },
  {
   "cell_type": "code",
   "execution_count": 13,
   "id": "1d27c2b4",
   "metadata": {},
   "outputs": [
    {
     "name": "stdout",
     "output_type": "stream",
     "text": [
      "name : ==国名== | level : 2\n",
      "name : ==歴史== | level : 2\n",
      "name : ==地理== | level : 2\n",
      "name : ===主要都市=== | level : 3\n",
      "name : ===気候=== | level : 3\n",
      "name : ==政治== | level : 2\n",
      "name : ===元首=== | level : 3\n",
      "name : ===法=== | level : 3\n",
      "name : ===内政=== | level : 3\n",
      "name : ===地方行政区分=== | level : 3\n",
      "name : ===外交・軍事=== | level : 3\n",
      "name : ==経済== | level : 2\n",
      "name : ===鉱業=== | level : 3\n",
      "name : ===農業=== | level : 3\n",
      "name : ===貿易=== | level : 3\n",
      "name : ===不動産=== | level : 3\n",
      "name : ===エネルギー政策=== | level : 3\n",
      "name : ===通貨=== | level : 3\n",
      "name : ===企業=== | level : 3\n",
      "name : ====通信==== | level : 4\n",
      "name : ==交通== | level : 2\n",
      "name : ===道路=== | level : 3\n",
      "name : ===鉄道=== | level : 3\n",
      "name : ===海運=== | level : 3\n",
      "name : ===航空=== | level : 3\n",
      "name : ==科学技術== | level : 2\n",
      "name : ==国民== | level : 2\n",
      "name : ===言語=== | level : 3\n",
      "name : ===宗教=== | level : 3\n",
      "name : ===婚姻=== | level : 3\n",
      "name : ===移住=== | level : 3\n",
      "name : ===教育=== | level : 3\n",
      "name : ===医療=== | level : 3\n",
      "name : ==文化== | level : 2\n",
      "name : ===食文化=== | level : 3\n",
      "name : ===文学=== | level : 3\n",
      "name : ===哲学=== | level : 3\n",
      "name : ===音楽=== | level : 3\n",
      "name : ====ポピュラー音楽==== | level : 4\n",
      "name : ===映画=== | level : 3\n",
      "name : ===コメディ=== | level : 3\n",
      "name : ===国花=== | level : 3\n",
      "name : ===世界遺産=== | level : 3\n",
      "name : ===祝祭日=== | level : 3\n",
      "name : ===スポーツ=== | level : 3\n",
      "name : ====サッカー==== | level : 4\n",
      "name : ====クリケット==== | level : 4\n",
      "name : ====競馬==== | level : 4\n",
      "name : ====モータースポーツ==== | level : 4\n",
      "name : ====野球==== | level : 4\n",
      "name : ==== カーリング ==== | level : 4\n",
      "name : ==== 自転車競技 ==== | level : 4\n",
      "name : ==脚注== | level : 2\n",
      "name : ==関連項目== | level : 2\n",
      "name : ==外部リンク== | level : 2\n"
     ]
    }
   ],
   "source": [
    "pattern = re.compile(r\"={2,6}.+={2,6}\")\n",
    "sections_list = pattern.findall(body)\n",
    "for section in sections_list:\n",
    "    print(f\"name : {section} | level : {section.count('=') // 2}\")"
   ]
  },
  {
   "cell_type": "markdown",
   "id": "2c184568",
   "metadata": {},
   "source": [
    "## 24. ファイル参照の抽出\n",
    "記事から参照されているメディアファイルをすべて抜き出せ。"
   ]
  },
  {
   "cell_type": "code",
   "execution_count": 14,
   "id": "04288951",
   "metadata": {},
   "outputs": [
    {
     "name": "stdout",
     "output_type": "stream",
     "text": [
      "<ref>{{Cite web|url=https://www.ons.gov.uk/peoplepopulationandcommunity/populationandmigration/populationestimates|title=Population estimates - Office for National Statistics|accessdate=2019-06-26|date=2019-06-26}}</ref>\n",
      "<ref>使用は.ukに比べ圧倒的少数。</ref>\n",
      "<ref>[[日本放送協会|NHK]]で採用している他、原則として「英国」を用いるメディアでも「[[イギリス英語]]」のような形では使用する。</ref>\n",
      "<ref>[http://warp.da.ndl.go.jp/info:ndljp/pid/1368617/www.meti.go.jp/policy/anpo/moto/topics/country/country.pdf 輸出貿易管理令等における国名表記の変更について]（[[経済産業省]]） 国立国会図書館のアーカイブより''2019-2-5閲覧''</ref>\n",
      "<ref>[https://kotobank.jp/word/%E3%82%A8%E3%82%B2%E3%83%AC%E3%82%B9-444373 コトバンク「エゲレス」]</ref>\n",
      "<ref>また、[[アメリカ合衆国]]に渡ることを「渡米」と言うように、イギリス、特にイングランドへ渡ることを「渡英」と言う（[[二字熟語による往来表現の一覧]]を参照）。</ref>\n",
      "<ref>{{cite web |url=http://www.scotshistoryonline.co.uk/union.html |title=Treaty of Union, 1706 |publisher=Scots History Online |accessdate=23 August 2011}}</ref>\n",
      "<ref>{{cite book |url=http://books.google.com/?id=LYc1tSYonrQC&pg=PA165 |title=Constitutional & Administrative Law |page=165 |author=Barnett, Hilaire |author2=Jago, Robert |edition=8th |year=2011 |isbn=978-0-415-56301-7 |publisher=Routledge |location=Abingdon }}</ref>\n",
      "<ref>See [[s:Act of Union 1707#Article 1 (name of the new kingdom)|Article One]] of the Act of Union 1707.</ref>\n",
      "<ref>{{cite web |url=http://www.historyworld.net/wrldhis/PlainTextHistories.asp?historyid=ab07 |title=History of Great Britain (from 1707) |authorlink=w:Bamber Gascoigne |author=Gascoigne, Bamber |publisher=History World |accessdate=18 July 2011}}</ref>\n",
      "<ref>{{cite book |title=The Irish Civil War 1922–23 |author=Cottrell, P. |year=2008 |page=85 |isbn=1-84603-270-9}}</ref>\n",
      "<ref>{{cite web |url=http://www.iso.org/iso/iso_3166-2_newsletter_ii-3_2011-12-13.pdf |title=Changes in the list of subdivision names and code elements |work=ISO 3166-2 |publisher=International Organization for Standardization |date=15 December 2011 |accessdate=28 May 2012}}</ref>\n",
      "<ref>[http://books.google.com/?id=gPkDAQAAIAAJ Population Trends, Issues 75–82, p.38], 1994, UK Office of Population Censuses and Surveys</ref>\n",
      "<ref>{{cite web |url=http://www.ons.gov.uk/ons/dcp171778_346117.xml |title=Statistical bulletin:Regional Labour Market Statistics |accessdate=5 March 2014 |archiveurl=https://web.archive.org/web/20141224045523/http://www.ons.gov.uk/ons/dcp171778_346117.xml |archivedate=2014年12月24日 |deadlinkdate=2018年3月 }}</ref>\n",
      "<ref>{{cite web |url=http://www.gmb.org.uk/newsroom/fall-in-earnings-value-during-recession |title=13.4% Fall In Earnings Value During Recession |accessdate=5 March 2014}}</ref>\n",
      "<ref>{{Cite book |last1=Whyte |first1=John |authorlink1=w:John Henry Whyte |last2=FitzGerald |first2=Garret|authorlink2=w:Garret FitzGerald|year=1991 |title=Interpreting Northern Ireland |location=Oxford |publisher=Clarendon Press |isbn=978-0-19-827380-6}}</ref>\n",
      "<ref>{{cite web |url=http://www.merriam-webster.com/dictionary/great%20britain |title=Merriam-Webster Dictionary Online Definition of '&#39;Great Britain'&#39;|publisher=[[:en:Merriam Webster|Merriam Webster]] |date=31 August 2012 |accessdate=9 April 2013}}</ref>\n",
      "<ref>[[:en:New Oxford American Dictionary|New Oxford American Dictionary]]:\"Great Britain:England, Wales, and Scotland considered as a unit. The name is also often used loosely to refer to the United Kingdom.\"</ref>\n",
      "<ref>{{cite news |url=http://www.guardian.co.uk/styleguide/page/0,,184840,00.html |title=Guardian Unlimited Style Guide |publisher=Guardian News and Media Limited |accessdate=23 August 2011 |location=London |date=19 December 2008}}</ref>\n",
      "<ref>{{cite news |url=http://news.bbc.co.uk/1/hi/programmes/radio_newsroom/1099593.stm#g|title=BBC style guide (Great Britain)|accessdate=23 August 2011 |work=BBC News|date=19 August 2002}}</ref>\n",
      "<ref>{{cite web |url=http://www.direct.gov.uk/en/Governmentcitizensandrights/LivingintheUK/DG_10012517 |title=Key facts about the United Kingdom|archiveurl=http://webarchive.nationalarchives.gov.uk/20121015000000/http://www.direct.gov.uk/en/Governmentcitizensandrights/LivingintheUK/DG_10012517|archivedate=3 November 2012 |accessdate=8 March 2015 |work=Government, citizens and rights |publisher=HM Government}}</ref>\n",
      "<ref>{{cite web |title=Great Britain |url=http://www.olympic.org/great-britain |publisher=International Olympic Committee |accessdate=10 May 2011}}</ref>\n",
      "<ref>{{cite news|last1=Mulgrew|first1=John|title=Team GB Olympic name row still simmering in Northern Ireland|url=http://www.belfasttelegraph.co.uk/news/northern-ireland/team-gb-olympic-name-row-still-simmering-in-northern-ireland-28776939.html|accessdate=9 March 2015|work=Belfast Telegraph|date=2 August 2012}}</ref>\n",
      "<ref>{{cite web |url=http://www.ark.ac.uk/nilt/2010/Community_Relations/NINATID.html |title=Which of these best describes the way you think of yourself? |year=2010 |work=Northern Ireland Life and Times Survey 2010 |publisher=ARK&nbsp;– Access Research Knowledge |accessdate=1 July 2010}}</ref>\n",
      "<ref>{{cite book |url=http://books.google.com/?id=u8gZklxHTMUC&pg=PA275 |title=Regionalism after regionalisation:Spain, France and the United Kingdom |pages=275–277 |author=Schrijver, Frans |publisher=Amsterdam University Press |year=2006 |isbn=978-90-5629-428-1}}</ref>\n",
      "<ref>{{cite news|url=http://www.guardian.co.uk/commentisfree/2010/dec/11/ian-jack-saddened-by-scotland-going-gaelic |location=London |work=The Guardian |first=Ian |last=Jack |title=Why I'm saddened by Scotland going Gaelic |date=11 December 2010}}</ref>\n",
      "<ref>{{cite web|url=http://www.direct.gov.uk/cy/Governmentcitizensandrights/LivingintheUK/DG_10012517CY|title=Ffeithiau allweddol am y Deyrnas Unedig|publisher=Directgov&nbsp;– Llywodraeth, dinasyddion a hawliau]|archiveurl=https://web.archive.org/web/20120924102112/http://www.direct.gov.uk/cy/Governmentcitizensandrights/LivingintheUK/DG_10012517CY|archivedate=2012年9月24日|accessdate=8 March 2015}}</ref>\n",
      "<ref>Samuel Smiles, ''The Huguenots:Their Settlements, Churches, and Industries in England and Ireland'', Genealogical Publishing Com, 1868, pp.313-314.</ref>\n",
      "<ref>アイルランドにもユグノーが地位を占めていた。[[:en:Baron Rendlesham|レンドルシャム男爵]]など。</ref>\n",
      "<ref>{{cite web|url=http://www.cnn.co.jp/world/35023094.html|title=スコットランド独立の是非を問う住民投票実施へ 英国|author=<code>CNN.co.jp</code>|accessdate=2012-10-16}}</ref>\n",
      "<ref>Trustee Act, 1925. Article 61. \"If it appears to the court that a trustee, whether appointed by the court or otherwise, is or may be personally liable for any breach of trust, whether the transaction alleged to be a breach of trust occurred before or after the commencement of this Act, but has acted honestly and reasonably, and ought fairly to be excused for the breach of trust and for ommitting to obtain the directions of the court in the matter in which he committed such breach, then the court may reliave him either wholly or partly from personal liability for the same.\"</ref>\n",
      "<ref>1958年信託変更法（[[:en:Variation of Trusts Act 1958|Variation of Trusts Act 1958]]）は、信託を変更し、かつ受益者の利益のために信託財産を処理することを認可する広い権限を、裁判所に与えている。</ref>\n",
      "<ref>[[証券取引委員会]] ''Investment Trusts and Investment Companes'', Part 2, 連邦政府出版局 1939年 52頁;H.Burton and D.C.Corner, ''Investment and Unit Trusts in britain and America'', Elek Book, London, 1968, p.68.</ref>\n",
      "<ref>{{Cite web|url=https://mainichi.jp/articles/20200201/k00/00m/030/008000c|title=英国がEU離脱 加盟国の離脱は初|publisher=毎日新聞|date=2020-02-01|accessdate=2020-02-01}}</ref>\n",
      "<ref>{{Cite web |url=http://yoshio-kusano.sakura.ne.jp/nakayamakouen6newpage3.html |title=中山徹奈良女子大教授の記念講演6 どうやって森を再生するかイギリスの例 |publisher=日本共産党宝塚市議 草野義雄 |accessdate=2014-5-10 |archiveurl=https://web.archive.org/web/20140512220911/http://yoshio-kusano.sakura.ne.jp/nakayamakouen6newpage3.html |archivedate=2014年5月12日 |deadlinkdate=2018年3月 }}</ref>\n",
      "<ref>{{cite web |url=http://www.fco.gov.uk/en/about-us/what-we-do/overseas-territories |title=Working with Overseas Territories |publisher=[[:en:Foreign and Commonwealth Office|Foreign and Commonwealth Office]] |accessdate=3 May 2011}}</ref>\n",
      "<ref>{{cite web |url=http://www.direct.gov.uk/en/Governmentcitizensandrights/LivingintheUK/DG_10012517 |title=Key facts about the United Kingdom |accessdate=3 May 2011 |publisher=[[:en:Directgov|Directgov]] |quote=The full title of this country is 'the United Kingdom of Great Britain and Northern Ireland'. 'The UK' is made up of England, Scotland, Wales and Northern Ireland. 'Britain' is used informally, usually meaning the United Kingdom. 'Great Britain' is made up of England, Scotland and Wales. The Channel Islands and the Isle of Man are not part of the UK. |archiveurl=http://webarchive.nationalarchives.gov.uk/20121015000000/http:/www.direct.gov.uk/en/Governmentcitizensandrights/LivingintheUK/DG_10012517 |archivedate=2012年10月15日 |deadlinkdate=2018年3月 }}</ref>\n",
      "<ref>{{cite web|url=https://www.cia.gov/library/publications/the-world-factbook/geos/uk.html|title=The World Factbook|date=1 February 2014|work=[[Central Intelligence Agency]]|accessdate=23 February 2014}}</ref>\n",
      "<ref>[https://www.weatheronline.co.uk/weather/maps/city?FMM=1&FYY=2001&LMM=12&LYY=2017&WMO=03779&CONT=ukuk&REGION=0003&LAND=UK&ART=TEM&R=0&NOREGION=1&LEVEL=162&LANG=en&MOD=tab London Weather Center 2001年1月から2017年12月までの平均]</ref>\n",
      "<ref>[http://www.royal.gov.uk/MonarchUK/HowtheMonarchyworks/Whatisconstitutionalmonarchy.aspx The British Monarchy, ''What is constitutional monarchy?'']. Retrieved 17 July 2013</ref>\n",
      "<ref>[https://www.cia.gov/library/publications/the-world-factbook/geos/uk.html CIA, ''The World Factbook'']. Retrieved 17 July 2013</ref>\n",
      "<ref>{{cite news |url=http://news.bbc.co.uk/1/hi/education/7859034.stm |title=Fall in UK university students |work=BBC News |date=29 January 2009}}</ref>\n",
      "<ref>{{cite web |url=http://www.transport-research.info/web/countryprofiles/uk.cfm |title=Country Overviews:United Kingdom |publisher=Transport Research Knowledge Centre |accessdate=28 March 2010 |archiveurl=https://web.archive.org/web/20100404062853/http://www.transport-research.info/web/countryprofiles/uk.cfm |archivedate=2010年4月4日 |deadlinkdate=2018年3月 }}</ref>\n",
      "<ref>{{cite book |title=The First Industrial Nation:the Economic History of Britain, 1700–1914 |publisher=Routledge |location=London |author=Mathias, P. |year=2001 |isbn=0-415-26672-6}}</ref>\n",
      "<ref>{{cite news |url=http://www.theaustralian.com.au/news/opinion/cameron-has-chance-to-make-uk-great-again/story-e6frg6zo-1225866975992 |author=Sheridan, Greg |title=Cameron has chance to make UK great again |accessdate=23 May 2011 |work=The Australian |location=Sydney |date=15 May 2010}}</ref>\n",
      "<ref>{{cite news |url=http://www.independent.co.uk/news/uk/home-news/britain-is-now-most-powerful-nation-on-earth-8326452.html |author=Dugan, Emily |title=Britain is now most powerful nation on earth |accessdate=18 November 2012 |work=The Independent |location=London |date=18 November 2012}}</ref>\n",
      "<ref>{{cite web|url=http://www.globalpowereurope.eu/|title=Global Power Europe|publisher=<code>Globalpowereurope.eu</code>|language=英語|accessdate=2008-10-17}}</ref>\n",
      "<ref>{{lang-en-short|British Armed Forces}}</ref>\n",
      "<ref>{{lang-en-short|His/Her Majesty's Armed Forces}}</ref>\n",
      "<ref>{{lang-en-short|Armed Forces of the Crown}}</ref>\n",
      "<ref>{{Cite web|url=http://www.raf.mod.uk/legalservices/p3chp29.htm|title=Armed Forces Act 1976, Arrangement of Sections|publisher=<code>raf.mod.uk</code>|language=英語|accessdate=2009-02-22|archiveurl=https://web.archive.org/web/20090221072352/http://www.raf.mod.uk/legalservices/p3chp29.htm|archivedate=2009年2月21日|deadlinkdate=2018年3月}}</ref>\n",
      "<ref>{{Cite web|url=http://www.mod.uk/DefenceInternet/AboutDefence/Organisation/KeyFactsAboutDefence/DefenceSpending.htm|title=Defence Spending|publisher={{lang|en|Ministry of Defence}}|language=英語|accessdate=2008-01-06 }}</ref>\n",
      "<ref>{{lang-en-short|Ministry of Defence}}「{{PDFlink|[http://www.mod.uk/NR/rdonlyres/6FBA7459-7407-4B85-AA47-7063F1F22461/0/modara_0405_s1_resources.pdf Annual Reports and Accounts 2004-05]|1.60&nbsp;MB}}」2006-05-14 閲覧。{{En icon}}</ref>\n",
      "<ref>{{lang|en|Office for National Statistics}}、{{lang|en|UK 2005:The Official Yearbook of the United Kingdom of Great Britain and Northern Ireland}}、p. 89 {{En icon}}</ref>\n",
      "<ref>[http://www.mori-m-foundation.or.jp/ius/gpci/ 世界の都市総合力ランキング(GPCI) 2016] 森記念財団都市戦略研究所 2016年10月31日閲覧。</ref>\n",
      "<ref>[http://www.longfinance.net/global-financial-centres-index-20/1037-gfci-20.html Global Financial Centres Index 20] Z/yen 2016年11月{{0}}3日閲覧。</ref>\n",
      "<ref>[http://www.bis.org/publ/rpfx16.htm Triennial Central Bank Survey of foreign exchange and OTC derivatives markets in 2016] 国際決済銀行（BIS） 2016年11月{{0}}3日閲覧。</ref>\n",
      "<ref>柏戸傳、「[https://hdl.handle.net/11266/1231 大戦間期日・英造船業の企業金融]」『立正経営論集』 2005年 37巻 2号, 立正大学経営学会</ref>\n",
      "<ref>{{Cite web|date=2008-08-30|url=http://sankei.jp.msn.com/economy/business/080830/biz0808301850007-n1.htm|work=産経新聞|title=「英経済、過去60年間で最悪の下降局面」英財務相|accessdate=2008-08-30 |archiveurl=https://web.archive.org/web/20080902012013/http://www.sankei.jp.msn.com/economy/business/080830/biz0808301850007-n1.htm |archivedate=2008-09-02}}</ref>\n",
      "<ref>[http://mainichi.jp/select/news/20151022k0000m030079000c.html 習主席：英首相と7兆円商談合意…人民元建てで国債発行へ] {{webarchive|url=https://web.archive.org/web/20151023155717/http://mainichi.jp/select/news/20151022k0000m030079000c.html |date=2015年10月23日 }}毎日新聞 2015年10月21日</ref>\n",
      "<ref>https://www.gov.uk/government/news/multimillion-boost-to-uk-economy-as-china-and-uk-government-sign-civil-nuclear-agreement-and-sign-agreement-to-deepen-cooperation-on-climate-change</ref>\n",
      "<ref>{{Cite report |publisher=Office for National Statistics |title=Religion in England and Wales 2011 |date=2012-12-11 |url=https://www.ons.gov.uk/peoplepopulationandcommunity/culturalidentity/religion/articles/religioninenglandandwales2011/2012-12-11 }}</ref>\n",
      "<ref>『The Changing Religious Landscape of Europe』 Hans Knippenberg</ref>\n",
      "<ref>「英国・イングランドとウェールズ、同性婚を初の合法化」朝日新聞、2014年{{0}}3月29日</ref>\n",
      "<ref>「在日本英国大使館・領事館で同性婚登録が可能に」 週刊金曜日 2014年{{0}}6月13日</ref>\n",
      "<ref>https://www.gov.uk/government/news/introduction-of-same-sex-marriage-at-british-consulates-overseas.ja</ref>\n",
      "<ref>{{cite news |url=http://news.bbc.co.uk/1/hi/health/7586147.stm |title='Huge contrasts' in devolved NHS |work=BBC News |date=28 August 2008}}</ref>\n",
      "<ref>{{cite news |url=http://news.bbc.co.uk/1/hi/health/7149423.stm |title=NHS now four different systems |work=BBC News |date=2 January 2008 |first=Nick |last=Triggle}}</ref>\n",
      "<ref>{{cite report|title=OECD Health Data 2009&nbsp;– How Does the United Kingdom Compare |publisher=OECD}}</ref>\n",
      "<ref>{{Cite journal|url=http://www.healthp.org/node/71|title=The NHS from Thatcher to Blair |first=Peter |last=Fisher |work=NHS Consultants Association |publisher=International Association of Health Policy |quote=The Budget ... was even more generous to the NHS than had been expected amounting to an annual rise of 7.4% above the rate of inflation for the next 5 years. This would take us to 9.4% of GDP spent on health ie around EU average.}}</ref>\n",
      "<ref>{{Cite journal |url=http://pages.stern.nyu.edu/~wgreene/Statistics/WHO-COMP-Study-30.pdf |title=Measuring overall health system performance for 191 countries |author=[[World Health Organization]] |publisher=New York University |accessdate=5 July 2011}}</ref>\n",
      "<ref>2008年12月10日付けの日本経済新聞</ref>\n",
      "<ref>[https://www.theguardian.com/sport/blog/2015/feb/12/cricket-world-cup-icc-50-overs More money, more viewers and fewer runs in prospect for intriguing World Cup More money, more viewers and fewer runs in prospect for intriguing World Cup] The Guardian 2019年7月15日閲覧。</ref>\n",
      "<ref>[https://www.theguardian.com/sport/live/2019/jul/14/new-zealand-v-england-cricket-world-cup-final-2019-live England beat New Zealand in thrilling Cricket World Cup final – as it happened!] The Guardian 2019年7月18日閲覧。</ref>\n",
      "<ref>「[http://www.curling.or.jp/newinfo/newrankings.html 世界ランク男女]」</ref>\n"
     ]
    }
   ],
   "source": [
    "body = england_data[\"text\"]\n",
    "pattern = re.compile(r\"<ref>.+?</ref>\")\n",
    "media_list = pattern.findall(body)\n",
    "for media in media_list:\n",
    "    print(media)"
   ]
  },
  {
   "cell_type": "markdown",
   "id": "637b9da3",
   "metadata": {},
   "source": [
    "## 25. テンプレートの抽出\n",
    "記事中に含まれる「基礎情報」テンプレートのフィールド名と値を抽出し、辞書オブジェクトとして格納せよ。"
   ]
  },
  {
   "cell_type": "code",
   "execution_count": 25,
   "id": "272299d1",
   "metadata": {},
   "outputs": [
    {
     "name": "stdout",
     "output_type": "stream",
     "text": [
      "日本語国名 : グレートブリテン及び北アイルランド連合王国\n",
      "公式国名 : {{lang|en|United Kingdom of Great Britain and Northern Ireland}}<ref>英語以外での正式国名:<br />\n",
      "国旗画像 : Flag of the United Kingdom.svg\n",
      "国章画像 : [[ファイル:Royal Coat of Arms of the United Kingdom.svg|85px|イギリスの国章]]\n",
      "標語 : {{lang|fr|[[Dieu et mon droit]]}}<br />（[[フランス語]]:[[Dieu et mon droit|神と我が権利]]）\n",
      "国歌 : [[女王陛下万歳|{{lang|en|God Save the Queen}}]]{{en icon}}<br />''神よ女王を護り賜え''<br />{{center|[[ファイル:United States Navy Band - God Save the Queen.ogg]]}}\n",
      "地図画像 : Europe-UK.svg\n",
      "位置画像 : United Kingdom (+overseas territories) in the World (+Antarctica claims).svg\n",
      "公用語 : [[英語]]\n",
      "首都 : [[ロンドン]]（事実上）\n",
      "最大都市 : ロンドン\n",
      "元首等肩書 : [[イギリスの君主|女王]]\n",
      "元首等氏名 : [[エリザベス2世]]\n",
      "首相等肩書 : [[イギリスの首相|首相]]\n",
      "首相等氏名 : [[ボリス・ジョンソン]]\n",
      "他元首等肩書1 : [[貴族院 (イギリス)|貴族院議長]]\n",
      "他元首等氏名1 : [[:en:Norman Fowler, Baron Fowler|ノーマン・ファウラー]]\n",
      "他元首等肩書2 : [[庶民院 (イギリス)|庶民院議長]]\n",
      "他元首等氏名2 : {{仮リンク|リンゼイ・ホイル|en|Lindsay Hoyle}}\n",
      "他元首等肩書3 : [[連合王国最高裁判所|最高裁判所長官]]\n",
      "他元首等氏名3 : [[:en:Brenda Hale, Baroness Hale of Richmond|ブレンダ・ヘイル]]\n",
      "面積順位 : 76\n",
      "面積大きさ : 1 E11\n",
      "面積値 : 244,820\n",
      "水面積率 : 1.3%\n",
      "人口統計年 : 2018\n",
      "人口順位 : 22\n",
      "人口大きさ : 1 E7\n",
      "人口値 : 6643万5600<ref>{{Cite web|urlhttps://www.ons.gov.uk/peoplepopulationandcommunity/populationandmigration/populationestimates|titlePopulation estimates - Office for National Statistics|accessdate2019-06-26|date2019-06-26}}</ref>\n",
      "人口密度値 : 271\n",
      "GDP統計年元 : 2012\n",
      "GDP値元 : 1兆5478億<ref name\"imf-statistics-gdp\">[http://www.imf.org/external/pubs/ft/weo/2012/02/weodata/weorept.aspx?pr.x70&pr.y13&sy2010&ey2012&scsm1&ssd1&sortcountry&ds.&br1&c112&sNGDP%2CNGDPD%2CPPPGDP%2CPPPPC&grp0&aIMF>Data and Statistics>World Economic Outlook Databases>By Countrise>United Kingdom]</ref>\n",
      "GDP統計年MER : 2012\n",
      "GDP順位MER : 6\n",
      "GDP値MER : 2兆4337億<ref name\"imf-statistics-gdp\" />\n",
      "GDP統計年 : 2012\n",
      "GDP順位 : 6\n",
      "GDP値 : 2兆3162億<ref name\"imf-statistics-gdp\" />\n",
      "GDP/人 : 36,727<ref name\"imf-statistics-gdp\" />\n",
      "建国形態 : 建国\n",
      "確立形態1 : [[イングランド王国]]／[[スコットランド王国]]<br />（両国とも[[合同法 (1707年)|1707年合同法]]まで）\n",
      "確立年月日1 : 927年／843年\n",
      "確立形態2 : [[グレートブリテン王国]]成立<br />（1707年合同法）\n",
      "確立年月日2 : 1707年{{0}}5月{{0}}1日\n",
      "確立形態3 : [[グレートブリテン及びアイルランド連合王国]]成立<br />（[[合同法 (1800年)|1800年合同法]]）\n",
      "確立年月日3 : 1801年{{0}}1月{{0}}1日\n",
      "確立形態4 : 現在の国号「'''グレートブリテン及び北アイルランド連合王国'''」に変更\n",
      "確立年月日4 : 1927年{{0}}4月12日\n",
      "通貨 : [[スターリング・ポンド|UKポンド]] (£)\n",
      "通貨コード : GBP\n",
      "時間帯 : ±0\n",
      "夏時間 : +1\n",
      "ISO 3166-1 : GB / GBR\n",
      "ccTLD : [[.uk]] / [[.gb]]<ref>使用は.ukに比べ圧倒的少数。</ref>\n",
      "国際電話番号 : 44\n",
      "注記 : <references/>\n"
     ]
    }
   ],
   "source": [
    "pattern = re.compile(r'\\|(.+ = .+)')\n",
    "base_info = pattern.findall(body)\n",
    "base_dict = {base.split(\"=\")[0].strip() : \"\".join(base.split(\"=\")[1:]).strip() for base in base_info}\n",
    "for key,value in base_dict.items():\n",
    "    print(f\"{key} : {value}\")"
   ]
  },
  {
   "cell_type": "markdown",
   "id": "25351fa2",
   "metadata": {},
   "source": [
    "## 26. 強調マークアップの除去\n",
    "25の処理時に、テンプレートの値からMediaWikiの強調マークアップ（弱い強調、強調、強い強調のすべて）を除去してテキストに変換せよ（参考: マークアップ早見表）。"
   ]
  },
  {
   "cell_type": "code",
   "execution_count": 26,
   "id": "3df79b32",
   "metadata": {},
   "outputs": [
    {
     "name": "stdout",
     "output_type": "stream",
     "text": [
      "日本語国名 : グレートブリテン及び北アイルランド連合王国\n",
      "公式国名 : {{lang|en|United Kingdom of Great Britain and Northern Ireland}}<ref>英語以外での正式国名:<br />\n",
      "国旗画像 : Flag of the United Kingdom.svg\n",
      "国章画像 : ファイル:Royal Coat of Arms of the United Kingdom.svg|85px|イギリスの国章\n",
      "標語 : {{lang|fr|Dieu et mon droit}}<br />（フランス語:Dieu et mon droit|神と我が権利）\n",
      "国歌 : 女王陛下万歳|{{lang|en|God Save the Queen}}{{en icon}}<br />神よ女王を護り賜え<br />{{center|ファイル:United States Navy Band - God Save the Queen.ogg}}\n",
      "地図画像 : Europe-UK.svg\n",
      "位置画像 : United Kingdom (+overseas territories) in the World (+Antarctica claims).svg\n",
      "公用語 : 英語\n",
      "首都 : ロンドン（事実上）\n",
      "最大都市 : ロンドン\n",
      "元首等肩書 : イギリスの君主|女王\n",
      "元首等氏名 : エリザベス2世\n",
      "首相等肩書 : イギリスの首相|首相\n",
      "首相等氏名 : ボリス・ジョンソン\n",
      "他元首等肩書1 : 貴族院 (イギリス)|貴族院議長\n",
      "他元首等氏名1 : :en:Norman Fowler, Baron Fowler|ノーマン・ファウラー\n",
      "他元首等肩書2 : 庶民院 (イギリス)|庶民院議長\n",
      "他元首等氏名2 : {{仮リンク|リンゼイ・ホイル|en|Lindsay Hoyle}}\n",
      "他元首等肩書3 : 連合王国最高裁判所|最高裁判所長官\n",
      "他元首等氏名3 : :en:Brenda Hale, Baroness Hale of Richmond|ブレンダ・ヘイル\n",
      "面積順位 : 76\n",
      "面積大きさ : 1 E11\n",
      "面積値 : 244,820\n",
      "水面積率 : 1.3%\n",
      "人口統計年 : 2018\n",
      "人口順位 : 22\n",
      "人口大きさ : 1 E7\n",
      "人口値 : 6643万5600<ref>{{Cite web|urlhttps://www.ons.gov.uk/peoplepopulationandcommunity/populationandmigration/populationestimates|titlePopulation estimates - Office for National Statistics|accessdate2019-06-26|date2019-06-26}}</ref>\n",
      "人口密度値 : 271\n",
      "GDP統計年元 : 2012\n",
      "GDP値元 : 1兆5478億<ref name\"imf-statistics-gdp\">[http://www.imf.org/external/pubs/ft/weo/2012/02/weodata/weorept.aspx?pr.x70&pr.y13&sy2010&ey2012&scsm1&ssd1&sortcountry&ds.&br1&c112&sNGDP%2CNGDPD%2CPPPGDP%2CPPPPC&grp0&aIMF>Data and Statistics>World Economic Outlook Databases>By Countrise>United Kingdom]</ref>\n",
      "GDP統計年MER : 2012\n",
      "GDP順位MER : 6\n",
      "GDP値MER : 2兆4337億<ref name\"imf-statistics-gdp\" />\n",
      "GDP統計年 : 2012\n",
      "GDP順位 : 6\n",
      "GDP値 : 2兆3162億<ref name\"imf-statistics-gdp\" />\n",
      "GDP/人 : 36,727<ref name\"imf-statistics-gdp\" />\n",
      "建国形態 : 建国\n",
      "確立形態1 : イングランド王国／スコットランド王国<br />（両国とも合同法 (1707年)|1707年合同法まで）\n",
      "確立年月日1 : 927年／843年\n",
      "確立形態2 : グレートブリテン王国成立<br />（1707年合同法）\n",
      "確立年月日2 : 1707年{{0}}5月{{0}}1日\n",
      "確立形態3 : グレートブリテン及びアイルランド連合王国成立<br />（合同法 (1800年)|1800年合同法）\n",
      "確立年月日3 : 1801年{{0}}1月{{0}}1日\n",
      "確立形態4 : 現在の国号「グレートブリテン及び北アイルランド連合王国」に変更\n",
      "確立年月日4 : 1927年{{0}}4月12日\n",
      "通貨 : スターリング・ポンド|UKポンド (£)\n",
      "通貨コード : GBP\n",
      "時間帯 : ±0\n",
      "夏時間 : +1\n",
      "ISO 3166-1 : GB / GBR\n",
      "ccTLD : .uk / .gb<ref>使用は.ukに比べ圧倒的少数。</ref>\n",
      "国際電話番号 : 44\n",
      "注記 : <references/>\n"
     ]
    }
   ],
   "source": [
    "emphasis_pattern = re.compile(r'\\'+(.+?)\\'+')\n",
    "internal_link_pattern = re.compile(r'\\[\\[(.+?)\\]\\]')\n",
    "\n",
    "for key,value in base_dict.items():\n",
    "    origin_value = value\n",
    "    value = emphasis_pattern.sub('\\\\1',value)    \n",
    "    value = internal_link_pattern.sub('\\\\1',value)   \n",
    "    print(f\"{key} : {value}\")"
   ]
  },
  {
   "cell_type": "markdown",
   "id": "3a748999",
   "metadata": {},
   "source": [
    "## 27. 内部リンクの除去\n",
    "26の処理に加えて、テンプレートの値からMediaWikiの内部リンクマークアップを除去し、テキストに変換せよ（参考: マークアップ早見表）。"
   ]
  },
  {
   "cell_type": "code",
   "execution_count": 27,
   "id": "3f4af6ec",
   "metadata": {},
   "outputs": [
    {
     "name": "stdout",
     "output_type": "stream",
     "text": [
      "日本語国名 : グレートブリテン及び北アイルランド連合王国\n",
      "公式国名 : {{lang|en|United Kingdom of Great Britain and Northern Ireland}}<ref>英語以外での正式国名:<br />\n",
      "国旗画像 : Flag of the United Kingdom.svg\n",
      "国章画像 : ファイル:Royal Coat of Arms of the United Kingdom.svg|85px|イギリスの国章\n",
      "標語 : {{lang|fr|Dieu et mon droit}}<br />（フランス語:Dieu et mon droit|神と我が権利）\n",
      "国歌 : 女王陛下万歳|{{lang|en|God Save the Queen}}{{en icon}}<br />神よ女王を護り賜え<br />{{center|ファイル:United States Navy Band - God Save the Queen.ogg}}\n",
      "地図画像 : Europe-UK.svg\n",
      "位置画像 : United Kingdom (+overseas territories) in the World (+Antarctica claims).svg\n",
      "公用語 : 英語\n",
      "首都 : ロンドン（事実上）\n",
      "最大都市 : ロンドン\n",
      "元首等肩書 : イギリスの君主|女王\n",
      "元首等氏名 : エリザベス2世\n",
      "首相等肩書 : イギリスの首相|首相\n",
      "首相等氏名 : ボリス・ジョンソン\n",
      "他元首等肩書1 : 貴族院 (イギリス)|貴族院議長\n",
      "他元首等氏名1 : :en:Norman Fowler, Baron Fowler|ノーマン・ファウラー\n",
      "他元首等肩書2 : 庶民院 (イギリス)|庶民院議長\n",
      "他元首等氏名2 : {{仮リンク|リンゼイ・ホイル|en|Lindsay Hoyle}}\n",
      "他元首等肩書3 : 連合王国最高裁判所|最高裁判所長官\n",
      "他元首等氏名3 : :en:Brenda Hale, Baroness Hale of Richmond|ブレンダ・ヘイル\n",
      "面積順位 : 76\n",
      "面積大きさ : 1 E11\n",
      "面積値 : 244,820\n",
      "水面積率 : 1.3%\n",
      "人口統計年 : 2018\n",
      "人口順位 : 22\n",
      "人口大きさ : 1 E7\n",
      "人口値 : 6643万5600<ref>{{Cite web|urlhttps://www.ons.gov.uk/peoplepopulationandcommunity/populationandmigration/populationestimates|titlePopulation estimates - Office for National Statistics|accessdate2019-06-26|date2019-06-26}}</ref>\n",
      "人口密度値 : 271\n",
      "GDP統計年元 : 2012\n",
      "GDP値元 : 1兆5478億<ref name\"imf-statistics-gdp\">[http://www.imf.org/external/pubs/ft/weo/2012/02/weodata/weorept.aspx?pr.x70&pr.y13&sy2010&ey2012&scsm1&ssd1&sortcountry&ds.&br1&c112&sNGDP%2CNGDPD%2CPPPGDP%2CPPPPC&grp0&aIMF>Data and Statistics>World Economic Outlook Databases>By Countrise>United Kingdom]</ref>\n",
      "GDP統計年MER : 2012\n",
      "GDP順位MER : 6\n",
      "GDP値MER : 2兆4337億<ref name\"imf-statistics-gdp\" />\n",
      "GDP統計年 : 2012\n",
      "GDP順位 : 6\n",
      "GDP値 : 2兆3162億<ref name\"imf-statistics-gdp\" />\n",
      "GDP/人 : 36,727<ref name\"imf-statistics-gdp\" />\n",
      "建国形態 : 建国\n",
      "確立形態1 : イングランド王国／スコットランド王国<br />（両国とも合同法 (1707年)|1707年合同法まで）\n",
      "確立年月日1 : 927年／843年\n",
      "確立形態2 : グレートブリテン王国成立<br />（1707年合同法）\n",
      "確立年月日2 : 1707年{{0}}5月{{0}}1日\n",
      "確立形態3 : グレートブリテン及びアイルランド連合王国成立<br />（合同法 (1800年)|1800年合同法）\n",
      "確立年月日3 : 1801年{{0}}1月{{0}}1日\n",
      "確立形態4 : 現在の国号「グレートブリテン及び北アイルランド連合王国」に変更\n",
      "確立年月日4 : 1927年{{0}}4月12日\n",
      "通貨 : スターリング・ポンド|UKポンド (£)\n",
      "通貨コード : GBP\n",
      "時間帯 : ±0\n",
      "夏時間 : +1\n",
      "ISO 3166-1 : GB / GBR\n",
      "ccTLD : .uk / .gb<ref>使用は.ukに比べ圧倒的少数。</ref>\n",
      "国際電話番号 : 44\n",
      "注記 : <references/>\n"
     ]
    }
   ],
   "source": [
    "emphasis_pattern = re.compile(r'\\'+(.+?)\\'+')\n",
    "internal_link_pattern = re.compile(r'\\[\\[(.+?)\\]\\]')\n",
    "\n",
    "for key,value in base_dict.items():\n",
    "    origin_value = value\n",
    "    value = emphasis_pattern.sub('\\\\1',value)    \n",
    "    value = internal_link_pattern.sub('\\\\1',value)   \n",
    "    print(f\"{key} : {value}\")"
   ]
  },
  {
   "cell_type": "markdown",
   "id": "ff70a553",
   "metadata": {},
   "source": [
    "## 28. MediaWikiマークアップの除去\n",
    "27の処理に加えて、テンプレートの値からMediaWikiマークアップを可能な限り除去し、国の基本情報を整形せよ。"
   ]
  },
  {
   "cell_type": "code",
   "execution_count": 28,
   "id": "d59e7663",
   "metadata": {},
   "outputs": [
    {
     "name": "stdout",
     "output_type": "stream",
     "text": [
      "日本語国名 : グレートブリテン及び北アイルランド連合王国\n",
      "公式国名 : {{lang|en|United Kingdom of Great Britain and Northern Ireland}}<ref>英語以外での正式国名:\n",
      "国旗画像 : Flag of the United Kingdom.svg\n",
      "国章画像 : ファイル:Royal Coat of Arms of the United Kingdom.svg|85px|イギリスの国章\n",
      "標語 : {{lang|fr|Dieu et mon droit}}（フランス語:Dieu et mon droit|神と我が権利）\n",
      "国歌 : 女王陛下万歳|{{lang|en|God Save the Queen}}{{en icon}}神よ女王を護り賜え{{center|ファイル:United States Navy Band - God Save the Queen.ogg}}\n",
      "地図画像 : Europe-UK.svg\n",
      "位置画像 : United Kingdom (+overseas territories) in the World (+Antarctica claims).svg\n",
      "公用語 : 英語\n",
      "首都 : ロンドン（事実上）\n",
      "最大都市 : ロンドン\n",
      "元首等肩書 : イギリスの君主|女王\n",
      "元首等氏名 : エリザベス2世\n",
      "首相等肩書 : イギリスの首相|首相\n",
      "首相等氏名 : ボリス・ジョンソン\n",
      "他元首等肩書1 : 貴族院 (イギリス)|貴族院議長\n",
      "他元首等氏名1 : :en:Norman Fowler, Baron Fowler|ノーマン・ファウラー\n",
      "他元首等肩書2 : 庶民院 (イギリス)|庶民院議長\n",
      "他元首等氏名2 : {{仮リンク|リンゼイ・ホイル|en|Lindsay Hoyle}}\n",
      "他元首等肩書3 : 連合王国最高裁判所|最高裁判所長官\n",
      "他元首等氏名3 : :en:Brenda Hale, Baroness Hale of Richmond|ブレンダ・ヘイル\n",
      "面積順位 : 76\n",
      "面積大きさ : 1 E11\n",
      "面積値 : 244,820\n",
      "水面積率 : 1.3%\n",
      "人口統計年 : 2018\n",
      "人口順位 : 22\n",
      "人口大きさ : 1 E7\n",
      "人口値 : 6643万5600\n",
      "人口密度値 : 271\n",
      "GDP統計年元 : 2012\n",
      "GDP値元 : 1兆5478億\n",
      "GDP統計年MER : 2012\n",
      "GDP順位MER : 6\n",
      "GDP値MER : 2兆4337億\n",
      "GDP統計年 : 2012\n",
      "GDP順位 : 6\n",
      "GDP値 : 2兆3162億\n",
      "GDP/人 : 36,727\n",
      "建国形態 : 建国\n",
      "確立形態1 : イングランド王国／スコットランド王国（両国とも合同法 (1707年)|1707年合同法まで）\n",
      "確立年月日1 : 927年／843年\n",
      "確立形態2 : グレートブリテン王国成立（1707年合同法）\n",
      "確立年月日2 : 1707年{{0}}5月{{0}}1日\n",
      "確立形態3 : グレートブリテン及びアイルランド連合王国成立（合同法 (1800年)|1800年合同法）\n",
      "確立年月日3 : 1801年{{0}}1月{{0}}1日\n",
      "確立形態4 : 現在の国号「グレートブリテン及び北アイルランド連合王国」に変更\n",
      "確立年月日4 : 1927年{{0}}4月12日\n",
      "通貨 : スターリング・ポンド|UKポンド (£)\n",
      "通貨コード : GBP\n",
      "時間帯 : ±0\n",
      "夏時間 : +1\n",
      "ISO 3166-1 : GB / GBR\n",
      "ccTLD : .uk / .gb\n",
      "国際電話番号 : 44\n",
      "注記 : <references/>\n"
     ]
    }
   ],
   "source": [
    "emphasis_pattern = re.compile(r'\\'+(.+?)\\'+')\n",
    "internal_link_pattern = re.compile(r'\\[\\[(.+?)\\]\\]')\n",
    "br_pattern = re.compile(r'<br />')\n",
    "ref_pattern = re.compile(r'<ref .+ />')\n",
    "ref_pattern2 = re.compile(r'<ref.*>.+</ref>')\n",
    "\n",
    "for key,value in base_dict.items():\n",
    "    origin_value = value\n",
    "    value = emphasis_pattern.sub('\\\\1',value)    \n",
    "    value = internal_link_pattern.sub('\\\\1',value)   \n",
    "    value = br_pattern.sub(\"\",value)\n",
    "    value = ref_pattern.sub(\"\",value)\n",
    "    value = ref_pattern2.sub(\"\",value)\n",
    "    base_dict[key] = value\n",
    "    print(f\"{key} : {value}\")"
   ]
  },
  {
   "cell_type": "markdown",
   "id": "7b6fb4ac",
   "metadata": {},
   "source": [
    "## 29. 国旗画像のURLを取得する\n",
    "テンプレートの内容を利用し、国旗画像のURLを取得せよ。（ヒント: MediaWiki APIのimageinfoを呼び出して、ファイル参照をURLに変換すればよい）"
   ]
  },
  {
   "cell_type": "code",
   "execution_count": 54,
   "id": "3df1dd6a",
   "metadata": {},
   "outputs": [
    {
     "data": {
      "text/plain": [
       "'https://upload.wikimedia.org/wikipedia/en/a/ae/Flag_of_the_United_Kingdom.svg'"
      ]
     },
     "execution_count": 54,
     "metadata": {},
     "output_type": "execute_result"
    }
   ],
   "source": [
    "# pattern = re.compile(r\"+.\\.svg\")\n",
    "# flag_img = pattern.search(base_dict[\"国旗画像\"])\n",
    "\n",
    "S = requests.Session()\n",
    "URL = \"https://en.wikipedia.org/w/api.php\"\n",
    "\n",
    "\n",
    "PARAMS = {\n",
    "    \"action\": \"query\",\n",
    "    \"format\": \"json\",\n",
    "    \"prop\": \"imageinfo\",\n",
    "    \"titles\": f\"File:{base_dict['国旗画像']}\",\n",
    "    \"iiprop\": \"url\"\n",
    "}\n",
    "\n",
    "R = S.get(url=URL, params=PARAMS)\n",
    "data = R.json()\n",
    "\n",
    "pages = data[\"query\"][\"pages\"]\n",
    "page_contents = list(pages.values())[0]\n",
    "# PAGES\n",
    "page_contents[\"imageinfo\"][0][\"url\"]"
   ]
  }
 ],
 "metadata": {
  "kernelspec": {
   "display_name": ".venv",
   "language": "python",
   "name": "python3"
  },
  "language_info": {
   "codemirror_mode": {
    "name": "ipython",
    "version": 3
   },
   "file_extension": ".py",
   "mimetype": "text/x-python",
   "name": "python",
   "nbconvert_exporter": "python",
   "pygments_lexer": "ipython3",
   "version": "3.10.12"
  }
 },
 "nbformat": 4,
 "nbformat_minor": 5
}
