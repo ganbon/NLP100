{
 "cells": [
  {
   "cell_type": "markdown",
   "id": "32875939",
   "metadata": {},
   "source": [
    "# 第3章: 正規表現"
   ]
  },
  {
   "cell_type": "code",
   "execution_count": null,
   "id": "8c965dfa",
   "metadata": {},
   "outputs": [],
   "source": [
    "import json\n",
    "import re"
   ]
  },
  {
   "cell_type": "markdown",
   "id": "3fe6b040",
   "metadata": {},
   "source": [
    "## 20. JSONデータの読み込み\n",
    "Wikipedia記事のJSONファイルを読み込み、「イギリス」に関する記事本文を表示せよ。問題21-29では、ここで抽出した記事本文に対して実行せよ。"
   ]
  },
  {
   "cell_type": "code",
   "execution_count": null,
   "id": "0eedc6a4",
   "metadata": {},
   "outputs": [],
   "source": [
    "with open(\"./jawiki-country.json\", mode=\"r\", encoding=\"utf-8\") as f:\n",
    "    country_data =  [json.loads(l) for l in f.readlines()]\n",
    "england_data =  [country for country in country_data if country[\"title\"] == \"イギリス\"][0]"
   ]
  },
  {
   "cell_type": "markdown",
   "id": "0dd68c75",
   "metadata": {},
   "source": [
    "## 21. カテゴリ名を含む行を抽出\n",
    "記事中でカテゴリ名を宣言している行を抽出せよ。"
   ]
  },
  {
   "cell_type": "code",
   "execution_count": null,
   "id": "3ed34172",
   "metadata": {},
   "outputs": [],
   "source": [
    "body = england_data[\"text\"]\n",
    "pattern = re.compile(r\"\\[\\[Category:.+\\]\\]\")\n",
    "category_line = pattern.findall(body)\n",
    "print(category_line)"
   ]
  },
  {
   "cell_type": "markdown",
   "id": "fa4f71f6",
   "metadata": {},
   "source": [
    "## 22. カテゴリ名の抽出\n",
    "記事のカテゴリ名を（行単位ではなく名前で）抽出せよ。"
   ]
  },
  {
   "cell_type": "code",
   "execution_count": null,
   "id": "b7fc4460",
   "metadata": {},
   "outputs": [],
   "source": [
    "pattern = re.compile(r\"\\[\\[Category:(.+)\\]\\]\")\n",
    "category_name = pattern.findall(body)\n",
    "print(category_name)"
   ]
  },
  {
   "cell_type": "markdown",
   "id": "0a7281ca",
   "metadata": {},
   "source": [
    "## 23. セクション構造\n",
    "記事中に含まれるセクション名とそのレベル（例えば”== セクション名 ==”なら1）を表示せよ。"
   ]
  },
  {
   "cell_type": "code",
   "execution_count": null,
   "id": "1d27c2b4",
   "metadata": {},
   "outputs": [],
   "source": [
    "pattern = re.compile(r\"={2,6}.+={2,6}\")\n",
    "sections_list = pattern.findall(body)\n",
    "for section in sections_list:\n",
    "    print(f\"name : {section} | level : {section.count('=')}\")"
   ]
  },
  {
   "cell_type": "markdown",
   "id": "2c184568",
   "metadata": {},
   "source": [
    "## 24. ファイル参照の抽出\n",
    "記事から参照されているメディアファイルをすべて抜き出せ。"
   ]
  },
  {
   "cell_type": "code",
   "execution_count": null,
   "id": "04288951",
   "metadata": {},
   "outputs": [],
   "source": [
    "body = england_data[\"text\"]\n",
    "pattern = re.compile(r\"<ref>.+?</ref>\")\n",
    "media_list = pattern.findall(body)\n",
    "for media in media_list:\n",
    "    print(media)"
   ]
  },
  {
   "cell_type": "markdown",
   "id": "637b9da3",
   "metadata": {},
   "source": [
    "## 25. テンプレートの抽出\n",
    "記事中に含まれる「基礎情報」テンプレートのフィールド名と値を抽出し、辞書オブジェクトとして格納せよ。"
   ]
  },
  {
   "cell_type": "code",
   "execution_count": null,
   "id": "272299d1",
   "metadata": {},
   "outputs": [],
   "source": [
    "pattern = re.compile(r'\\|(.+ = .+)')\n",
    "base_info = pattern.findall(body)\n",
    "base_dict = {base.split(\"=\")[0] : \"\".join(base.split(\"=\")[1:]) for base in base_info}\n",
    "for key,value in base_dict.items():\n",
    "    print(f\"{key} : {value}\")"
   ]
  },
  {
   "cell_type": "markdown",
   "id": "25351fa2",
   "metadata": {},
   "source": [
    "## 26. 強調マークアップの除去\n",
    "25の処理時に、テンプレートの値からMediaWikiの強調マークアップ（弱い強調、強調、強い強調のすべて）を除去してテキストに変換せよ（参考: マークアップ早見表）。"
   ]
  },
  {
   "cell_type": "code",
   "execution_count": null,
   "id": "3df79b32",
   "metadata": {},
   "outputs": [],
   "source": [
    "emphasis_pattern = re.compile(r'\\'+(.+?)\\'+')\n",
    "internal_link_pattern = re.compile(r'\\[\\[(.+?)\\]\\]')\n",
    "\n",
    "for key,value in base_dict.items():\n",
    "    origin_value = value\n",
    "    value = emphasis_pattern.sub('\\\\1',value)    \n",
    "    value = internal_link_pattern.sub('\\\\1',value)   \n",
    "    print(f\"{key} : {value}\")"
   ]
  },
  {
   "cell_type": "markdown",
   "id": "3a748999",
   "metadata": {},
   "source": [
    "## 27. 内部リンクの除去\n",
    "26の処理に加えて、テンプレートの値からMediaWikiの内部リンクマークアップを除去し、テキストに変換せよ（参考: マークアップ早見表）。"
   ]
  },
  {
   "cell_type": "code",
   "execution_count": null,
   "id": "3f4af6ec",
   "metadata": {},
   "outputs": [],
   "source": [
    "emphasis_pattern = re.compile(r'\\'+(.+?)\\'+')\n",
    "internal_link_pattern = re.compile(r'\\[\\[(.+?)\\]\\]')\n",
    "\n",
    "for key,value in base_dict.items():\n",
    "    origin_value = value\n",
    "    value = emphasis_pattern.sub('\\\\1',value)    \n",
    "    value = internal_link_pattern.sub('\\\\1',value)   \n",
    "    print(f\"{key} : {value}\")"
   ]
  },
  {
   "cell_type": "markdown",
   "id": "ff70a553",
   "metadata": {},
   "source": [
    "## 28. MediaWikiマークアップの除去\n",
    "27の処理に加えて、テンプレートの値からMediaWikiマークアップを可能な限り除去し、国の基本情報を整形せよ。"
   ]
  },
  {
   "cell_type": "code",
   "execution_count": null,
   "id": "d59e7663",
   "metadata": {},
   "outputs": [],
   "source": [
    "emphasis_pattern = re.compile(r'\\'+(.+?)\\'+')\n",
    "internal_link_pattern = re.compile(r'\\[\\[(.+?)\\]\\]')\n",
    "br_pattern = re.compile(r'<br />')\n",
    "ref_pattern = re.compile(r'<ref .+ />')\n",
    "ref_pattern2 = re.compile(r'<ref.*>.+</ref>')\n",
    "\n",
    "for key,value in base_dict.items():\n",
    "    origin_value = value\n",
    "    value = emphasis_pattern.sub('\\\\1',value)    \n",
    "    value = internal_link_pattern.sub('\\\\1',value)   \n",
    "    value = br_pattern.sub(\"\",value)\n",
    "    value = ref_pattern.sub(\"\",value)\n",
    "    value = ref_pattern2.sub(\"\",value)\n",
    "    print(f\"{key} : {value}\")"
   ]
  },
  {
   "cell_type": "markdown",
   "id": "7b6fb4ac",
   "metadata": {},
   "source": [
    "## 29. 国旗画像のURLを取得する\n",
    "テンプレートの内容を利用し、国旗画像のURLを取得せよ。（ヒント: MediaWiki APIのimageinfoを呼び出して、ファイル参照をURLに変換すればよい）"
   ]
  },
  {
   "cell_type": "code",
   "execution_count": null,
   "id": "3df1dd6a",
   "metadata": {},
   "outputs": [],
   "source": []
  }
 ],
 "metadata": {
  "kernelspec": {
   "display_name": "Python 3",
   "language": "python",
   "name": "python3"
  },
  "language_info": {
   "name": "python",
   "version": "3.10.8"
  }
 },
 "nbformat": 4,
 "nbformat_minor": 5
}
